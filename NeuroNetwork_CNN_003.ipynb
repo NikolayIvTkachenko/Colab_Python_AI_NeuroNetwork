{
  "nbformat": 4,
  "nbformat_minor": 0,
  "metadata": {
    "colab": {
      "provenance": [],
      "authorship_tag": "ABX9TyOFjtaMifldAjezA2wrk1t3",
      "include_colab_link": true
    },
    "kernelspec": {
      "name": "python3",
      "display_name": "Python 3"
    },
    "language_info": {
      "name": "python"
    }
  },
  "cells": [
    {
      "cell_type": "markdown",
      "metadata": {
        "id": "view-in-github",
        "colab_type": "text"
      },
      "source": [
        "<a href=\"https://colab.research.google.com/github/NikolayIvTkachenko/Colab_Python_AI_NeuroNetwork/blob/main/NeuroNetwork_CNN_003.ipynb\" target=\"_parent\"><img src=\"https://colab.research.google.com/assets/colab-badge.svg\" alt=\"Open In Colab\"/></a>"
      ]
    },
    {
      "cell_type": "code",
      "execution_count": 1,
      "metadata": {
        "id": "AIcrlucnLJV7"
      },
      "outputs": [],
      "source": [
        "import tensorflow as tf\n",
        "import numpy as np\n",
        "import matplotlib.pyplot as plt"
      ]
    },
    {
      "cell_type": "code",
      "source": [
        "!wget https://www.cs.toronto.edu/~kriz/cifar-10-python.tar.gz"
      ],
      "metadata": {
        "colab": {
          "base_uri": "https://localhost:8080/"
        },
        "id": "VaaxvQyaLklt",
        "outputId": "b844a212-a1ff-4b32-c1c3-c33bc4773235"
      },
      "execution_count": 2,
      "outputs": [
        {
          "output_type": "stream",
          "name": "stdout",
          "text": [
            "--2025-10-20 19:53:18--  https://www.cs.toronto.edu/~kriz/cifar-10-python.tar.gz\n",
            "Resolving www.cs.toronto.edu (www.cs.toronto.edu)... 128.100.3.30\n",
            "Connecting to www.cs.toronto.edu (www.cs.toronto.edu)|128.100.3.30|:443... connected.\n",
            "HTTP request sent, awaiting response... 200 OK\n",
            "Length: 170498071 (163M) [application/x-gzip]\n",
            "Saving to: ‘cifar-10-python.tar.gz’\n",
            "\n",
            "cifar-10-python.tar 100%[===================>] 162.60M  17.9MB/s    in 10s     \n",
            "\n",
            "2025-10-20 19:53:29 (15.6 MB/s) - ‘cifar-10-python.tar.gz’ saved [170498071/170498071]\n",
            "\n"
          ]
        }
      ]
    },
    {
      "cell_type": "code",
      "source": [
        "cifar = tf.keras.datasets.cifar10\n",
        "(x_train, y_train), (x_test, y_test) = cifar.load_data()"
      ],
      "metadata": {
        "colab": {
          "base_uri": "https://localhost:8080/"
        },
        "id": "-m79LOhKLyPh",
        "outputId": "111b3e0e-f9ac-4161-97ef-afc99bf822e5"
      },
      "execution_count": 3,
      "outputs": [
        {
          "output_type": "stream",
          "name": "stdout",
          "text": [
            "Downloading data from https://www.cs.toronto.edu/~kriz/cifar-10-python.tar.gz\n",
            "\u001b[1m170498071/170498071\u001b[0m \u001b[32m━━━━━━━━━━━━━━━━━━━━\u001b[0m\u001b[37m\u001b[0m \u001b[1m11s\u001b[0m 0us/step\n"
          ]
        }
      ]
    },
    {
      "cell_type": "code",
      "source": [
        "!tar -xvzf cifar-10-python.tar.gz"
      ],
      "metadata": {
        "colab": {
          "base_uri": "https://localhost:8080/"
        },
        "id": "aH8d8XNLMBoB",
        "outputId": "99f05f12-afe5-4a5e-fbbf-ace2239c53cc"
      },
      "execution_count": 4,
      "outputs": [
        {
          "output_type": "stream",
          "name": "stdout",
          "text": [
            "cifar-10-batches-py/\n",
            "cifar-10-batches-py/data_batch_4\n",
            "cifar-10-batches-py/readme.html\n",
            "cifar-10-batches-py/test_batch\n",
            "cifar-10-batches-py/data_batch_3\n",
            "cifar-10-batches-py/batches.meta\n",
            "cifar-10-batches-py/data_batch_2\n",
            "cifar-10-batches-py/data_batch_5\n",
            "cifar-10-batches-py/data_batch_1\n"
          ]
        }
      ]
    },
    {
      "cell_type": "code",
      "source": [
        "\n",
        "def unpickle(file):\n",
        "  import pickle\n",
        "  with open(file, 'rb') as fo:\n",
        "    dict = pickle.load(fo, encoding='bytes')\n",
        "    return dict"
      ],
      "metadata": {
        "id": "3nHk82JZZ-ok"
      },
      "execution_count": 5,
      "outputs": []
    },
    {
      "cell_type": "code",
      "source": [
        "def load_data(file_location):\n",
        "  x_train = None\n",
        "  y_train = None\n",
        "\n",
        "  #Education data\n",
        "  for i in [1, 2, 3, 4, 5]:\n",
        "    db_dict = unpickle(file_location + \"data_batch_\"+str(i))\n",
        "    data_points = len(db_dict[b'data']).reshape((data_points, 3, 32, 32)).transpose((0, 2, 3, 1))\n",
        "    if x_train is None:\n",
        "      x_train = data\n",
        "      y_train - db_dict[b'labels']\n",
        "    else:\n",
        "      x_train = np.concatenate((x_train, data))\n",
        "      y_train = np.concatenate((y_train, db_dict[b'labels']))\n",
        "  #Test data\n",
        "  db_dict = unpickle(file_location+\"test_batch\")\n",
        "  data_points = len(db_dict[b'data'])\n",
        "  x_test = db_dict[b'data'].reshape((data_points, 3, 32, 32)).transpose((0, 2, 3, 1))\n",
        "  y_test = np.array(db_dict[b'labels'])\n",
        "\n",
        "  return (x_train, y_train), (x_train, y_test)\n"
      ],
      "metadata": {
        "id": "QCcajUujael6"
      },
      "execution_count": 6,
      "outputs": []
    },
    {
      "cell_type": "code",
      "source": [
        "meta_dict = unpickle(\"./cifar-10-batches-py/batches.meta\")\n",
        "meta_dict[b'label_names']"
      ],
      "metadata": {
        "colab": {
          "base_uri": "https://localhost:8080/"
        },
        "id": "Sh1Ukcp3ugtf",
        "outputId": "2155719b-7b0f-4227-c094-7b42849ed809"
      },
      "execution_count": 7,
      "outputs": [
        {
          "output_type": "execute_result",
          "data": {
            "text/plain": [
              "[b'airplane',\n",
              " b'automobile',\n",
              " b'bird',\n",
              " b'cat',\n",
              " b'deer',\n",
              " b'dog',\n",
              " b'frog',\n",
              " b'horse',\n",
              " b'ship',\n",
              " b'truck']"
            ]
          },
          "metadata": {},
          "execution_count": 7
        }
      ]
    },
    {
      "cell_type": "code",
      "source": [],
      "metadata": {
        "id": "DD3Idygau-cf"
      },
      "execution_count": null,
      "outputs": []
    }
  ]
}