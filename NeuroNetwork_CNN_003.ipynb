{
  "nbformat": 4,
  "nbformat_minor": 0,
  "metadata": {
    "colab": {
      "provenance": [],
      "authorship_tag": "ABX9TyMtr5pioi7AUCb15jBVO+bq",
      "include_colab_link": true
    },
    "kernelspec": {
      "name": "python3",
      "display_name": "Python 3"
    },
    "language_info": {
      "name": "python"
    }
  },
  "cells": [
    {
      "cell_type": "markdown",
      "metadata": {
        "id": "view-in-github",
        "colab_type": "text"
      },
      "source": [
        "<a href=\"https://colab.research.google.com/github/NikolayIvTkachenko/Colab_Python_AI_NeuroNetwork/blob/main/NeuroNetwork_CNN_003.ipynb\" target=\"_parent\"><img src=\"https://colab.research.google.com/assets/colab-badge.svg\" alt=\"Open In Colab\"/></a>"
      ]
    },
    {
      "cell_type": "code",
      "execution_count": 1,
      "metadata": {
        "id": "AIcrlucnLJV7"
      },
      "outputs": [],
      "source": [
        "import tensorflow as tf\n",
        "import numpy as np\n",
        "import matplotlib.pyplot as plt"
      ]
    },
    {
      "cell_type": "code",
      "source": [
        "!wget https://www.cs.toronto.edu/~kriz/cifar-10-python.tar.gz"
      ],
      "metadata": {
        "colab": {
          "base_uri": "https://localhost:8080/"
        },
        "id": "VaaxvQyaLklt",
        "outputId": "b844a212-a1ff-4b32-c1c3-c33bc4773235"
      },
      "execution_count": 2,
      "outputs": [
        {
          "output_type": "stream",
          "name": "stdout",
          "text": [
            "--2025-10-20 19:53:18--  https://www.cs.toronto.edu/~kriz/cifar-10-python.tar.gz\n",
            "Resolving www.cs.toronto.edu (www.cs.toronto.edu)... 128.100.3.30\n",
            "Connecting to www.cs.toronto.edu (www.cs.toronto.edu)|128.100.3.30|:443... connected.\n",
            "HTTP request sent, awaiting response... 200 OK\n",
            "Length: 170498071 (163M) [application/x-gzip]\n",
            "Saving to: ‘cifar-10-python.tar.gz’\n",
            "\n",
            "cifar-10-python.tar 100%[===================>] 162.60M  17.9MB/s    in 10s     \n",
            "\n",
            "2025-10-20 19:53:29 (15.6 MB/s) - ‘cifar-10-python.tar.gz’ saved [170498071/170498071]\n",
            "\n"
          ]
        }
      ]
    },
    {
      "cell_type": "code",
      "source": [
        "cifar = tf.keras.datasets.cifar10\n",
        "(x_train, y_train), (x_test, y_test) = cifar.load_data()"
      ],
      "metadata": {
        "colab": {
          "base_uri": "https://localhost:8080/"
        },
        "id": "-m79LOhKLyPh",
        "outputId": "111b3e0e-f9ac-4161-97ef-afc99bf822e5"
      },
      "execution_count": 3,
      "outputs": [
        {
          "output_type": "stream",
          "name": "stdout",
          "text": [
            "Downloading data from https://www.cs.toronto.edu/~kriz/cifar-10-python.tar.gz\n",
            "\u001b[1m170498071/170498071\u001b[0m \u001b[32m━━━━━━━━━━━━━━━━━━━━\u001b[0m\u001b[37m\u001b[0m \u001b[1m11s\u001b[0m 0us/step\n"
          ]
        }
      ]
    },
    {
      "cell_type": "code",
      "source": [
        "!tar -xvzf cifar-10-python.tar.gz"
      ],
      "metadata": {
        "colab": {
          "base_uri": "https://localhost:8080/"
        },
        "id": "aH8d8XNLMBoB",
        "outputId": "99f05f12-afe5-4a5e-fbbf-ace2239c53cc"
      },
      "execution_count": 4,
      "outputs": [
        {
          "output_type": "stream",
          "name": "stdout",
          "text": [
            "cifar-10-batches-py/\n",
            "cifar-10-batches-py/data_batch_4\n",
            "cifar-10-batches-py/readme.html\n",
            "cifar-10-batches-py/test_batch\n",
            "cifar-10-batches-py/data_batch_3\n",
            "cifar-10-batches-py/batches.meta\n",
            "cifar-10-batches-py/data_batch_2\n",
            "cifar-10-batches-py/data_batch_5\n",
            "cifar-10-batches-py/data_batch_1\n"
          ]
        }
      ]
    },
    {
      "cell_type": "code",
      "source": [
        "\n",
        "def unpickle(file):\n",
        "  import pickle\n",
        "  with open(file, 'rb') as fo:\n",
        "    dict = pickle.load(fo, encoding='bytes')\n",
        "    return dict"
      ],
      "metadata": {
        "id": "3nHk82JZZ-ok"
      },
      "execution_count": 5,
      "outputs": []
    },
    {
      "cell_type": "code",
      "source": [
        "def load_data(file_location):\n",
        "  x_train = None\n",
        "  y_train = None\n",
        "\n",
        "  #Education data\n",
        "  for i in [1, 2, 3, 4, 5]:\n",
        "    db_dict = unpickle(file_location + \"data_batch_\"+str(i))\n",
        "    data_points = len(db_dict[b'data'])\n",
        "    data = db_dict[b'data'].reshape((data_points, 3, 32, 32)).transpose((0, 2, 3, 1))\n",
        "    if x_train is None:\n",
        "      x_train = data\n",
        "      y_train = db_dict[b'labels']\n",
        "    else:\n",
        "      x_train = np.concatenate((x_train, data))\n",
        "      y_train = np.concatenate((y_train, db_dict[b'labels']))\n",
        "  #Test data\n",
        "  db_dict = unpickle(file_location+\"test_batch\")\n",
        "  data_points = len(db_dict[b'data'])\n",
        "  x_test = db_dict[b'data'].reshape((data_points, 3, 32, 32)).transpose((0, 2, 3, 1))\n",
        "  y_test = np.array(db_dict[b'labels'])\n",
        "\n",
        "  return (x_train, y_train), (x_test, y_test)\n"
      ],
      "metadata": {
        "id": "QCcajUujael6"
      },
      "execution_count": 22,
      "outputs": []
    },
    {
      "cell_type": "code",
      "source": [
        "meta_dict = unpickle(\"./cifar-10-batches-py/batches.meta\")\n",
        "meta_dict[b'label_names']"
      ],
      "metadata": {
        "colab": {
          "base_uri": "https://localhost:8080/"
        },
        "id": "Sh1Ukcp3ugtf",
        "outputId": "8047e7c7-c411-4a44-a8b7-93b26099b7aa"
      },
      "execution_count": 23,
      "outputs": [
        {
          "output_type": "execute_result",
          "data": {
            "text/plain": [
              "[b'airplane',\n",
              " b'automobile',\n",
              " b'bird',\n",
              " b'cat',\n",
              " b'deer',\n",
              " b'dog',\n",
              " b'frog',\n",
              " b'horse',\n",
              " b'ship',\n",
              " b'truck']"
            ]
          },
          "metadata": {},
          "execution_count": 23
        }
      ]
    },
    {
      "cell_type": "code",
      "source": [
        "(x_train, y_train), (x_test, y_test) = load_data(\"./cifar-10-batches-py/\")\n",
        "x_train, x_test = x_train / 255.0, x_test / 255.0"
      ],
      "metadata": {
        "id": "DD3Idygau-cf"
      },
      "execution_count": 24,
      "outputs": []
    },
    {
      "cell_type": "code",
      "source": [
        "print(x_train.shape)\n",
        "print(y_train.shape)\n",
        "print(y_train.shape)\n",
        "print(y_test.shape)"
      ],
      "metadata": {
        "colab": {
          "base_uri": "https://localhost:8080/"
        },
        "id": "9m28JPfUvguW",
        "outputId": "0ecebc40-0a8e-40e1-9ddb-e69864ccb2fe"
      },
      "execution_count": 25,
      "outputs": [
        {
          "output_type": "stream",
          "name": "stdout",
          "text": [
            "(50000, 32, 32, 3)\n",
            "(50000,)\n",
            "(50000,)\n",
            "(10000,)\n"
          ]
        }
      ]
    },
    {
      "cell_type": "code",
      "source": [
        "print(\"Label value: {0} and label name: {1} \".format(y_train[1], meta_dict[b'label_names'][y_train[1]]))\n",
        "tf.keras.utils.array_to_img(x_train[1])"
      ],
      "metadata": {
        "colab": {
          "base_uri": "https://localhost:8080/",
          "height": 67
        },
        "id": "YIdPHvFmxkV-",
        "outputId": "ce054500-27e0-4ffe-c724-ebe2ae4bc6cc"
      },
      "execution_count": 26,
      "outputs": [
        {
          "output_type": "stream",
          "name": "stdout",
          "text": [
            "Label value: 9 and label name: b'truck' \n"
          ]
        },
        {
          "output_type": "execute_result",
          "data": {
            "text/plain": [
              "<PIL.Image.Image image mode=RGB size=32x32>"
            ],
            "image/png": "[encoded data removed]",
            "image/jpeg": "[encoded data removed]"
          },
          "metadata": {},
          "execution_count": 26
        }
      ]
    },
    {
      "cell_type": "code",
      "source": [
        "def create_model():\n",
        "  inputs = tf.keras.layers.Input(shape=(32, 32, 3))\n",
        "  x = tf.keras.layers.Conv2D(filters=32, kernel_size=(3, 3), padding='same')(inputs)\n",
        "  x = tf.keras.layers.Activation(\"relu\")(x)\n",
        "  x = tf.keras.layers.MaxPool2D(pool_size=(2, 2))(x)\n",
        "\n",
        "  x = tf.keras.layers.Conv2D(filters=32, kernel_size=(3, 3), padding='same')(x)\n",
        "  x = tf.keras.layers.Activation(\"relu\")(x)\n",
        "  x = tf.keras.layers.MaxPool2D(pool_size=(2, 2))(x)\n",
        "\n",
        "  x = tf.keras.layers.Conv2D(filters=64, kernel_size=(3, 3), padding='same')(x)\n",
        "  x = tf.keras.layers.Activation(\"relu\")(x)\n",
        "\n",
        "  x = tf.keras.layers.Conv2D(filters=64, kernel_size=(3, 3), padding='same')(x)\n",
        "  x = tf.keras.layers.Activation(\"relu\")(x)\n",
        "  x = tf.keras.layers.MaxPool2D(pool_size=(2, 2))(x)\n",
        "\n",
        "  x = tf.keras.layers.Conv2D(filters=128, kernel_size=(3, 3), padding='same')(x)\n",
        "  x = tf.keras.layers.Activation(\"relu\")(x)\n",
        "  x = tf.keras.layers.Conv2D(filters=128, kernel_size=(3, 3), padding='same')(x)\n",
        "  x = tf.keras.layers.Activation(\"relu\")(x)\n",
        "  x = tf.keras.layers.MaxPool2D(pool_size=(2, 2))(x)\n",
        "\n",
        "  x = tf.keras.layers.Flatten()(x)\n",
        "\n",
        "  x = tf.keras.layers.Dense(128, activation='relu')(x)\n",
        "  x = tf.keras.layers.Dense(128, activation='relu')(x)\n",
        "\n",
        "  predictions = tf.keras.layers.Dense(10, activation='softmax')(x)\n",
        "\n",
        "  model = tf.keras.models.Model(inputs=inputs, outputs=predictions)\n",
        "\n",
        "  return model"
      ],
      "metadata": {
        "id": "YiEn_o8Ryd7Y"
      },
      "execution_count": 27,
      "outputs": []
    },
    {
      "cell_type": "code",
      "source": [
        "model = create_model()\n",
        "model.compile(\n",
        "    optimizer=tf.keras.optimizers.Adam(0.001),\n",
        "    loss=tf.keras.losses.SparseCategoricalCrossentropy(),\n",
        "    metrics=[tf.keras.metrics.SparseCategoricalAccuracy()],\n",
        ")"
      ],
      "metadata": {
        "id": "FJC8g12g3SUF"
      },
      "execution_count": 28,
      "outputs": []
    },
    {
      "cell_type": "code",
      "source": [
        "history = model.fit(\n",
        "    x_train,\n",
        "    y_train,\n",
        "    epochs=50,\n",
        "    batch_size=32,\n",
        "    steps_per_epoch=200,\n",
        "    verbose=2,\n",
        "    validation_steps=50,\n",
        "    validation_split=0.2\n",
        "    )"
      ],
      "metadata": {
        "colab": {
          "base_uri": "https://localhost:8080/"
        },
        "id": "BdBqBYBG4BTH",
        "outputId": "4f62a522-9097-423f-df9d-92c8119bef98"
      },
      "execution_count": 30,
      "outputs": [
        {
          "output_type": "stream",
          "name": "stdout",
          "text": [
            "Epoch 1/50\n",
            "200/200 - 23s - 114ms/step - loss: 2.0635 - sparse_categorical_accuracy: 0.2052 - val_loss: 1.9044 - val_sparse_categorical_accuracy: 0.2981\n",
            "Epoch 2/50\n",
            "200/200 - 20s - 99ms/step - loss: 1.8198 - sparse_categorical_accuracy: 0.3144 - val_loss: 1.7634 - val_sparse_categorical_accuracy: 0.3369\n",
            "Epoch 3/50\n",
            "200/200 - 18s - 88ms/step - loss: 1.6820 - sparse_categorical_accuracy: 0.3636 - val_loss: 1.6370 - val_sparse_categorical_accuracy: 0.3963\n",
            "Epoch 4/50\n",
            "200/200 - 20s - 99ms/step - loss: 1.5795 - sparse_categorical_accuracy: 0.4067 - val_loss: 1.5583 - val_sparse_categorical_accuracy: 0.4206\n",
            "Epoch 5/50\n",
            "200/200 - 41s - 205ms/step - loss: 1.5199 - sparse_categorical_accuracy: 0.4422 - val_loss: 1.4752 - val_sparse_categorical_accuracy: 0.4556\n",
            "Epoch 6/50\n",
            "200/200 - 17s - 87ms/step - loss: 1.4376 - sparse_categorical_accuracy: 0.4705 - val_loss: 1.3697 - val_sparse_categorical_accuracy: 0.4881\n",
            "Epoch 7/50\n"
          ]
        },
        {
          "output_type": "stream",
          "name": "stderr",
          "text": [
            "/usr/local/lib/python3.12/dist-packages/keras/src/trainers/epoch_iterator.py:116: UserWarning: Your input ran out of data; interrupting training. Make sure that your dataset or generator can generate at least `steps_per_epoch * epochs` batches. You may need to use the `.repeat()` function when building your dataset.\n",
            "  self._interrupted_warning()\n"
          ]
        },
        {
          "output_type": "stream",
          "name": "stdout",
          "text": [
            "200/200 - 5s - 25ms/step - loss: 1.4237 - sparse_categorical_accuracy: 0.4737 - val_loss: 1.4444 - val_sparse_categorical_accuracy: 0.4787\n",
            "Epoch 8/50\n",
            "200/200 - 18s - 88ms/step - loss: 1.3669 - sparse_categorical_accuracy: 0.5013 - val_loss: 1.3436 - val_sparse_categorical_accuracy: 0.4956\n",
            "Epoch 9/50\n",
            "200/200 - 17s - 87ms/step - loss: 1.3646 - sparse_categorical_accuracy: 0.5025 - val_loss: 1.3353 - val_sparse_categorical_accuracy: 0.5150\n",
            "Epoch 10/50\n",
            "200/200 - 18s - 89ms/step - loss: 1.2954 - sparse_categorical_accuracy: 0.5284 - val_loss: 1.2413 - val_sparse_categorical_accuracy: 0.5475\n",
            "Epoch 11/50\n",
            "200/200 - 19s - 94ms/step - loss: 1.2434 - sparse_categorical_accuracy: 0.5473 - val_loss: 1.2532 - val_sparse_categorical_accuracy: 0.5512\n",
            "Epoch 12/50\n",
            "200/200 - 18s - 89ms/step - loss: 1.2465 - sparse_categorical_accuracy: 0.5475 - val_loss: 1.2219 - val_sparse_categorical_accuracy: 0.5750\n",
            "Epoch 13/50\n",
            "200/200 - 18s - 89ms/step - loss: 1.1698 - sparse_categorical_accuracy: 0.5752 - val_loss: 1.2773 - val_sparse_categorical_accuracy: 0.5306\n",
            "Epoch 14/50\n",
            "200/200 - 4s - 21ms/step - loss: 1.1897 - sparse_categorical_accuracy: 0.5656 - val_loss: 1.2520 - val_sparse_categorical_accuracy: 0.5594\n",
            "Epoch 15/50\n",
            "200/200 - 82s - 410ms/step - loss: 1.1151 - sparse_categorical_accuracy: 0.5941 - val_loss: 1.1693 - val_sparse_categorical_accuracy: 0.5731\n",
            "Epoch 16/50\n",
            "200/200 - 17s - 83ms/step - loss: 1.1365 - sparse_categorical_accuracy: 0.5922 - val_loss: 1.1575 - val_sparse_categorical_accuracy: 0.5819\n",
            "Epoch 17/50\n",
            "200/200 - 17s - 84ms/step - loss: 1.0974 - sparse_categorical_accuracy: 0.5992 - val_loss: 1.1082 - val_sparse_categorical_accuracy: 0.6025\n",
            "Epoch 18/50\n",
            "200/200 - 19s - 96ms/step - loss: 1.0503 - sparse_categorical_accuracy: 0.6220 - val_loss: 1.0966 - val_sparse_categorical_accuracy: 0.6131\n",
            "Epoch 19/50\n",
            "200/200 - 16s - 79ms/step - loss: 1.0501 - sparse_categorical_accuracy: 0.6264 - val_loss: 1.1181 - val_sparse_categorical_accuracy: 0.6075\n",
            "Epoch 20/50\n",
            "200/200 - 15s - 75ms/step - loss: 1.0500 - sparse_categorical_accuracy: 0.6280 - val_loss: 1.1043 - val_sparse_categorical_accuracy: 0.6062\n",
            "Epoch 21/50\n",
            "200/200 - 5s - 26ms/step - loss: 1.0827 - sparse_categorical_accuracy: 0.6156 - val_loss: 1.1389 - val_sparse_categorical_accuracy: 0.5863\n",
            "Epoch 22/50\n",
            "200/200 - 20s - 102ms/step - loss: 0.9600 - sparse_categorical_accuracy: 0.6561 - val_loss: 1.0344 - val_sparse_categorical_accuracy: 0.6431\n",
            "Epoch 23/50\n",
            "200/200 - 16s - 80ms/step - loss: 0.9284 - sparse_categorical_accuracy: 0.6667 - val_loss: 1.0680 - val_sparse_categorical_accuracy: 0.6200\n",
            "Epoch 24/50\n",
            "200/200 - 15s - 74ms/step - loss: 0.9416 - sparse_categorical_accuracy: 0.6600 - val_loss: 1.0182 - val_sparse_categorical_accuracy: 0.6469\n",
            "Epoch 25/50\n",
            "200/200 - 21s - 104ms/step - loss: 0.9314 - sparse_categorical_accuracy: 0.6706 - val_loss: 1.1031 - val_sparse_categorical_accuracy: 0.6281\n",
            "Epoch 26/50\n",
            "200/200 - 16s - 78ms/step - loss: 0.9478 - sparse_categorical_accuracy: 0.6642 - val_loss: 1.1002 - val_sparse_categorical_accuracy: 0.6087\n",
            "Epoch 27/50\n",
            "200/200 - 15s - 75ms/step - loss: 0.9374 - sparse_categorical_accuracy: 0.6723 - val_loss: 1.0617 - val_sparse_categorical_accuracy: 0.6275\n",
            "Epoch 28/50\n",
            "200/200 - 5s - 26ms/step - loss: 0.9651 - sparse_categorical_accuracy: 0.6612 - val_loss: 1.0080 - val_sparse_categorical_accuracy: 0.6538\n",
            "Epoch 29/50\n",
            "200/200 - 16s - 80ms/step - loss: 0.8238 - sparse_categorical_accuracy: 0.7083 - val_loss: 1.0217 - val_sparse_categorical_accuracy: 0.6456\n",
            "Epoch 30/50\n",
            "200/200 - 15s - 76ms/step - loss: 0.8473 - sparse_categorical_accuracy: 0.7041 - val_loss: 0.9809 - val_sparse_categorical_accuracy: 0.6606\n",
            "Epoch 31/50\n",
            "200/200 - 15s - 75ms/step - loss: 0.8404 - sparse_categorical_accuracy: 0.7063 - val_loss: 0.9518 - val_sparse_categorical_accuracy: 0.6637\n",
            "Epoch 32/50\n",
            "200/200 - 15s - 74ms/step - loss: 0.8204 - sparse_categorical_accuracy: 0.7120 - val_loss: 0.9349 - val_sparse_categorical_accuracy: 0.6850\n",
            "Epoch 33/50\n",
            "200/200 - 15s - 75ms/step - loss: 0.8355 - sparse_categorical_accuracy: 0.7084 - val_loss: 0.9936 - val_sparse_categorical_accuracy: 0.6556\n",
            "Epoch 34/50\n",
            "200/200 - 16s - 79ms/step - loss: 0.8765 - sparse_categorical_accuracy: 0.6936 - val_loss: 0.9367 - val_sparse_categorical_accuracy: 0.6631\n",
            "Epoch 35/50\n",
            "200/200 - 4s - 22ms/step - loss: 0.8218 - sparse_categorical_accuracy: 0.7106 - val_loss: 0.9547 - val_sparse_categorical_accuracy: 0.6831\n",
            "Epoch 36/50\n",
            "200/200 - 15s - 75ms/step - loss: 0.7478 - sparse_categorical_accuracy: 0.7431 - val_loss: 0.9712 - val_sparse_categorical_accuracy: 0.6819\n",
            "Epoch 37/50\n",
            "200/200 - 18s - 90ms/step - loss: 0.7475 - sparse_categorical_accuracy: 0.7417 - val_loss: 1.0131 - val_sparse_categorical_accuracy: 0.6687\n",
            "Epoch 38/50\n",
            "200/200 - 19s - 93ms/step - loss: 0.7357 - sparse_categorical_accuracy: 0.7397 - val_loss: 0.9926 - val_sparse_categorical_accuracy: 0.6669\n",
            "Epoch 39/50\n",
            "200/200 - 17s - 85ms/step - loss: 0.7585 - sparse_categorical_accuracy: 0.7297 - val_loss: 0.9441 - val_sparse_categorical_accuracy: 0.6712\n",
            "Epoch 40/50\n",
            "200/200 - 21s - 106ms/step - loss: 0.7528 - sparse_categorical_accuracy: 0.7273 - val_loss: 0.9343 - val_sparse_categorical_accuracy: 0.6881\n",
            "Epoch 41/50\n",
            "200/200 - 17s - 84ms/step - loss: 0.7557 - sparse_categorical_accuracy: 0.7348 - val_loss: 0.9224 - val_sparse_categorical_accuracy: 0.6950\n",
            "Epoch 42/50\n",
            "200/200 - 10s - 52ms/step - loss: 0.7422 - sparse_categorical_accuracy: 0.7350 - val_loss: 0.9975 - val_sparse_categorical_accuracy: 0.6656\n",
            "Epoch 43/50\n",
            "200/200 - 42s - 209ms/step - loss: 0.6577 - sparse_categorical_accuracy: 0.7681 - val_loss: 0.9669 - val_sparse_categorical_accuracy: 0.6875\n",
            "Epoch 44/50\n",
            "200/200 - 17s - 84ms/step - loss: 0.6589 - sparse_categorical_accuracy: 0.7603 - val_loss: 0.9651 - val_sparse_categorical_accuracy: 0.6825\n",
            "Epoch 45/50\n",
            "200/200 - 20s - 102ms/step - loss: 0.6944 - sparse_categorical_accuracy: 0.7581 - val_loss: 0.9148 - val_sparse_categorical_accuracy: 0.6919\n",
            "Epoch 46/50\n",
            "200/200 - 19s - 93ms/step - loss: 0.6487 - sparse_categorical_accuracy: 0.7694 - val_loss: 0.9175 - val_sparse_categorical_accuracy: 0.6888\n",
            "Epoch 47/50\n",
            "200/200 - 15s - 77ms/step - loss: 0.6849 - sparse_categorical_accuracy: 0.7617 - val_loss: 0.9356 - val_sparse_categorical_accuracy: 0.6913\n",
            "Epoch 48/50\n",
            "200/200 - 15s - 77ms/step - loss: 0.6804 - sparse_categorical_accuracy: 0.7605 - val_loss: 0.9344 - val_sparse_categorical_accuracy: 0.6881\n",
            "Epoch 49/50\n",
            "200/200 - 5s - 27ms/step - loss: 0.6708 - sparse_categorical_accuracy: 0.7650 - val_loss: 0.9376 - val_sparse_categorical_accuracy: 0.6944\n",
            "Epoch 50/50\n",
            "200/200 - 15s - 76ms/step - loss: 0.5705 - sparse_categorical_accuracy: 0.7928 - val_loss: 0.9451 - val_sparse_categorical_accuracy: 0.6931\n"
          ]
        }
      ]
    },
    {
      "cell_type": "code",
      "source": [
        "model.evaluate(x_train, y_train)\n",
        "model.evaluate(x_test, y_test)"
      ],
      "metadata": {
        "colab": {
          "base_uri": "https://localhost:8080/"
        },
        "id": "P0WsWyuQ4pKB",
        "outputId": "3b43fac7-1c4e-41e7-f292-9a02e87a21a1"
      },
      "execution_count": 31,
      "outputs": [
        {
          "output_type": "stream",
          "name": "stdout",
          "text": [
            "\u001b[1m1563/1563\u001b[0m \u001b[32m━━━━━━━━━━━━━━━━━━━━\u001b[0m\u001b[37m\u001b[0m \u001b[1m38s\u001b[0m 25ms/step - loss: 0.5135 - sparse_categorical_accuracy: 0.8228\n",
            "\u001b[1m313/313\u001b[0m \u001b[32m━━━━━━━━━━━━━━━━━━━━\u001b[0m\u001b[37m\u001b[0m \u001b[1m6s\u001b[0m 20ms/step - loss: 0.9043 - sparse_categorical_accuracy: 0.6966\n"
          ]
        },
        {
          "output_type": "execute_result",
          "data": {
            "text/plain": [
              "[0.8998587131500244, 0.6987000107765198]"
            ]
          },
          "metadata": {},
          "execution_count": 31
        }
      ]
    },
    {
      "cell_type": "code",
      "source": [
        "#График точности модели\n",
        "plt.plot(history.history[\"sparse_categorical_accuracy\"])\n",
        "plt.plot(history.history[\"val_sparse_categorical_accuracy\"])\n",
        "plt.title(\"Model Accuracy Plot\")\n",
        "plt.xlabel(\"Epoch\")\n",
        "plt.ylabel(\"Accuracy\")\n",
        "plt.legend([\"Train\", \"Validation\"], loc=\"upper left\")\n",
        "plt.show()"
      ],
      "metadata": {
        "colab": {
          "base_uri": "https://localhost:8080/",
          "height": 472
        },
        "id": "1g4OlEjV40TP",
        "outputId": "6834e716-0190-4e1a-dcf2-bbe284b64b70"
      },
      "execution_count": 32,
      "outputs": [
        {
          "output_type": "display_data",
          "data": {
            "text/plain": [
              "<Figure size 640x480 with 1 Axes>"
            ],
            "image/png": "[encoded data removed]"
          },
          "metadata": {}
        }
      ]
    },
    {
      "cell_type": "code",
      "source": [
        "#График потерь модели\n",
        "\n",
        "plt.plot(history.history[\"loss\"])\n",
        "plt.plot(history.history[\"val_loss\"])\n",
        "plt.title(\"Model Loss Plot\")\n",
        "plt.xlabel(\"Epoch\")\n",
        "plt.ylabel(\"Loss\")\n",
        "plt.legend([\"Train\", \"Validation\"], loc=\"upper left\")"
      ],
      "metadata": {
        "colab": {
          "base_uri": "https://localhost:8080/",
          "height": 490
        },
        "id": "-e00TSWE4gOV",
        "outputId": "020416ae-1963-4236-a64d-5f280ee74d54"
      },
      "execution_count": 33,
      "outputs": [
        {
          "output_type": "execute_result",
          "data": {
            "text/plain": [
              "<matplotlib.legend.Legend at 0x7eb49e71f950>"
            ]
          },
          "metadata": {},
          "execution_count": 33
        },
        {
          "output_type": "display_data",
          "data": {
            "text/plain": [
              "<Figure size 640x480 with 1 Axes>"
            ],
            "image/png": "[encoded data removed]"
          },
          "metadata": {}
        }
      ]
    },
    {
      "cell_type": "code",
      "source": [
        "#Устранение переобучения дропаут\n",
        "def create_model_v2():\n",
        "  inputs = tf.keras.layers.Input(shape=(32, 32, 3))\n",
        "  x = tf.keras.layers.Conv2D(filters=32, kernel_size=(3, 3), padding='same')(inputs)\n",
        "\n",
        "  x = tf.keras.layers.Activation(\"relu\")(x)\n",
        "  x = tf.keras.layers.MaxPool2D(pool_size=(2, 2))(x)\n",
        "  x = tf.keras.layers.Dropout(0.2)(x)\n",
        "\n",
        "  x = tf.keras.layers.Conv2D(filters=32, kernel_size=(3, 3), padding='same')(x)\n",
        "  x = tf.keras.layers.Activation(\"relu\")(x)\n",
        "  x = tf.keras.layers.MaxPool2D(pool_size=(2, 2))(x)\n",
        "  x = tf.keras.layers.Dropout(0.2)(x)\n",
        "\n",
        "  x = tf.keras.layers.Conv2D(filters=64, kernel_size=(3, 3), padding='same')(x)\n",
        "  x = tf.keras.layers.Activation(\"relu\")(x)\n",
        "  x = tf.keras.layers.Conv2D(filters=64, kernel_size=(3, 3), padding='same')(x)\n",
        "  x = tf.keras.layers.Activation(\"relu\")(x)\n",
        "  x = tf.keras.layers.MaxPool2D(pool_size=(2, 2))(x)\n",
        "  x = tf.keras.layers.Dropout(0.2)(x)\n",
        "\n",
        "  x = tf.keras.layers.Conv2D(filters=128, kernel_size=(3, 3), padding='same')(x)\n",
        "  x = tf.keras.layers.Activation(\"relu\")(x)\n",
        "  x = tf.keras.layers.Conv2D(filters=128, kernel_size=(3, 3), padding='same')(x)\n",
        "  x = tf.keras.layers.Activation(\"relu\")(x)\n",
        "  x = tf.keras.layers.MaxPool2D(pool_size=(2, 2))(x)\n",
        "  x = tf.keras.layers.Dropout(0.2)(x)\n",
        "\n",
        "  x = tf.keras.layers.Flatten()(x)\n",
        "  x = tf.keras.layers.Dense(128, activation='relu')(x)\n",
        "  x = tf.keras.layers.Dropout(0.2)(x)\n",
        "  x = tf.keras.layers.Dense(128, activation='relu')(x)\n",
        "  x = tf.keras.layers.Dropout(0.2)(x)\n",
        "\n",
        "  predictions = tf.keras.layers.Dense(10, activation='softmax')(x)\n",
        "\n",
        "  model = tf.keras.models.Model(inputs=inputs, outputs=predictions)\n",
        "\n",
        "  return model\n",
        "\n",
        ""
      ],
      "metadata": {
        "id": "fv69r9HZ5p_M"
      },
      "execution_count": 34,
      "outputs": []
    },
    {
      "cell_type": "code",
      "source": [],
      "metadata": {
        "id": "zSpiYeoN8ip3"
      },
      "execution_count": null,
      "outputs": []
    }
  ]
}