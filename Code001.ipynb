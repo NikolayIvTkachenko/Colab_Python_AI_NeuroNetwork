{
  "nbformat": 4,
  "nbformat_minor": 0,
  "metadata": {
    "colab": {
      "provenance": [],
      "authorship_tag": "ABX9TyPV0CtivcsD26BKgy523oYo",
      "include_colab_link": true
    },
    "kernelspec": {
      "name": "python3",
      "display_name": "Python 3"
    },
    "language_info": {
      "name": "python"
    }
  },
  "cells": [
    {
      "cell_type": "markdown",
      "metadata": {
        "id": "view-in-github",
        "colab_type": "text"
      },
      "source": [
        "<a href=\"https://colab.research.google.com/github/NikolayIvTkachenko/Colab_Python_AI_NeuroNetwork/blob/main/Code001.ipynb\" target=\"_parent\"><img src=\"https://colab.research.google.com/assets/colab-badge.svg\" alt=\"Open In Colab\"/></a>"
      ]
    },
    {
      "cell_type": "code",
      "execution_count": null,
      "metadata": {
        "colab": {
          "base_uri": "https://localhost:8080/"
        },
        "id": "t4ZBJ7ynoUF2",
        "outputId": "a7a88cda-5183-4a2d-829e-bebb670dd4b6"
      },
      "outputs": [
        {
          "output_type": "stream",
          "name": "stdout",
          "text": [
            "5\n",
            "3.14\n",
            "Hello World\n"
          ]
        }
      ],
      "source": [
        "a = 5\n",
        "pi = 3.14\n",
        "st = \"Hello World\"\n",
        "print(a)\n",
        "print(pi)\n",
        "print(st)"
      ]
    },
    {
      "cell_type": "code",
      "source": [
        "# Only one string comment\n",
        "\"\"\"\n",
        "Multiline string\n",
        "String 01\n",
        "String 02\n",
        "\"\"\""
      ],
      "metadata": {
        "id": "Lpzjgt17qjqw"
      },
      "execution_count": null,
      "outputs": []
    },
    {
      "cell_type": "code",
      "source": [
        "a = 5\n",
        "pi = 3.14\n",
        "st = \"Hello World\"\n",
        "print(type(a))\n",
        "print(type(pi))\n",
        "print(type(st))\n",
        "\n",
        "flag_1 = True\n",
        "flag_2 = False\n",
        "print(type(flag_1))\n",
        "print(type(flag_2))\n",
        "\n",
        "aa = 2\n",
        "print(aa)\n",
        "print(type(aa))\n",
        "bb = float(aa)\n",
        "\n",
        "print(bb)\n",
        "print(type(bb))"
      ],
      "metadata": {
        "colab": {
          "base_uri": "https://localhost:8080/"
        },
        "id": "KVcUguyGrdhK",
        "outputId": "d7fcb73e-e8f2-4261-ffae-2da18c0f14a6"
      },
      "execution_count": null,
      "outputs": [
        {
          "output_type": "stream",
          "name": "stdout",
          "text": [
            "<class 'int'>\n",
            "<class 'float'>\n",
            "<class 'str'>\n",
            "<class 'bool'>\n",
            "<class 'bool'>\n",
            "2\n",
            "<class 'int'>\n",
            "2.0\n",
            "<class 'float'>\n"
          ]
        }
      ]
    },
    {
      "cell_type": "code",
      "source": [
        "z = 25\n",
        "x = 6\n",
        "print(z + x)\n",
        "print(z - x)\n",
        "print(z * x)\n",
        "print(z / x)\n",
        "print(z // x)\n",
        "print(z % x)\n",
        "print(z ** x)"
      ],
      "metadata": {
        "colab": {
          "base_uri": "https://localhost:8080/"
        },
        "id": "FtOFIAi9sM_9",
        "outputId": "c45e7356-5173-4ae2-e52b-fb01723fcd90"
      },
      "execution_count": null,
      "outputs": [
        {
          "output_type": "stream",
          "name": "stdout",
          "text": [
            "31\n",
            "19\n",
            "150\n",
            "4.166666666666667\n",
            "4\n",
            "1\n",
            "244140625\n"
          ]
        }
      ]
    },
    {
      "cell_type": "code",
      "source": [
        "a = 2\n",
        "b = 5\n",
        "if a > b:\n",
        "  print(\"a > b\")\n",
        "elif b < a:\n",
        "  print(\"a < b\")\n",
        "else:\n",
        "  print(\"a = b\")"
      ],
      "metadata": {
        "colab": {
          "base_uri": "https://localhost:8080/"
        },
        "id": "09vquH1UsyWB",
        "outputId": "4f8e29d1-9eba-423f-ea49-2b5b11fd4b9b"
      },
      "execution_count": null,
      "outputs": [
        {
          "output_type": "stream",
          "name": "stdout",
          "text": [
            "a = b\n"
          ]
        }
      ]
    },
    {
      "cell_type": "code",
      "source": [
        "i = 0\n",
        "while i < 5:\n",
        "  print(i)\n",
        "  i = i + 1"
      ],
      "metadata": {
        "colab": {
          "base_uri": "https://localhost:8080/"
        },
        "id": "h5uJ4pvxLQnc",
        "outputId": "f6a99f9a-0639-446b-9f52-0cbce2e0bef2"
      },
      "execution_count": null,
      "outputs": [
        {
          "output_type": "stream",
          "name": "stdout",
          "text": [
            "0\n",
            "1\n",
            "2\n",
            "3\n",
            "4\n"
          ]
        }
      ]
    },
    {
      "cell_type": "code",
      "source": [
        "nums = [10, 20, 30, 40, 50]\n",
        "for i in nums:\n",
        "  print(i)\n"
      ],
      "metadata": {
        "colab": {
          "base_uri": "https://localhost:8080/"
        },
        "id": "m875kugcLjUh",
        "outputId": "0e64ee23-be55-42ac-e571-215d9404184a"
      },
      "execution_count": null,
      "outputs": [
        {
          "output_type": "stream",
          "name": "stdout",
          "text": [
            "10\n",
            "20\n",
            "30\n",
            "40\n",
            "50\n"
          ]
        }
      ]
    },
    {
      "cell_type": "code",
      "source": [
        "msg = \"hello\"\n",
        "for c in msg:\n",
        "  if c ==\"o\":\n",
        "    break\n",
        "  print(c)"
      ],
      "metadata": {
        "colab": {
          "base_uri": "https://localhost:8080/"
        },
        "id": "-3CrZ80DMDJL",
        "outputId": "59ba67eb-dc56-4b57-a3b5-6dd013ffff8f"
      },
      "execution_count": null,
      "outputs": [
        {
          "output_type": "stream",
          "name": "stdout",
          "text": [
            "h\n",
            "e\n",
            "l\n",
            "l\n"
          ]
        }
      ]
    },
    {
      "cell_type": "code",
      "source": [
        "msg = \"hello\"\n",
        "for c in msg:\n",
        "  if c ==\"e\":\n",
        "    continue\n",
        "  print(c)"
      ],
      "metadata": {
        "colab": {
          "base_uri": "https://localhost:8080/"
        },
        "id": "S3DY2rUkMUDp",
        "outputId": "7c9fef30-9e7f-424b-e754-6e1edfce6322"
      },
      "execution_count": null,
      "outputs": [
        {
          "output_type": "stream",
          "name": "stdout",
          "text": [
            "h\n",
            "l\n",
            "l\n",
            "o\n"
          ]
        }
      ]
    },
    {
      "cell_type": "code",
      "source": [
        "for i in range(5):\n",
        "  print(i)"
      ],
      "metadata": {
        "colab": {
          "base_uri": "https://localhost:8080/"
        },
        "id": "hl7G7ivlMa8D",
        "outputId": "bac2a968-7cb1-439b-eca7-94e74efb0056"
      },
      "execution_count": null,
      "outputs": [
        {
          "output_type": "stream",
          "name": "stdout",
          "text": [
            "0\n",
            "1\n",
            "2\n",
            "3\n",
            "4\n"
          ]
        }
      ]
    },
    {
      "cell_type": "code",
      "source": [
        "for i in range(1, 10, 2):\n",
        "  print(i)"
      ],
      "metadata": {
        "colab": {
          "base_uri": "https://localhost:8080/"
        },
        "id": "Nx-2VYQmM6lO",
        "outputId": "44278c93-e07b-465e-c08b-716b0a62c338"
      },
      "execution_count": null,
      "outputs": [
        {
          "output_type": "stream",
          "name": "stdout",
          "text": [
            "1\n",
            "3\n",
            "5\n",
            "7\n",
            "9\n"
          ]
        }
      ]
    },
    {
      "cell_type": "code",
      "source": [
        "city = [\"Paris\", \"Mumbai\", \"New York\", \"London\", \"Tokio\"]\n",
        "items = [\"Paris\", 2, 5.98765, [3, 7, 9]]\n",
        "\n",
        "print(city[0])\n",
        "print(city[1])\n",
        "print(city[-1])\n",
        "print(city[-2])"
      ],
      "metadata": {
        "colab": {
          "base_uri": "https://localhost:8080/"
        },
        "id": "lS5wDNtTPdrw",
        "outputId": "9726b130-7919-4938-cb8b-056bdedbafc4"
      },
      "execution_count": null,
      "outputs": [
        {
          "output_type": "stream",
          "name": "stdout",
          "text": [
            "Paris\n",
            "Mumbai\n",
            "Tokio\n",
            "London\n"
          ]
        }
      ]
    },
    {
      "cell_type": "code",
      "source": [
        "# list_name[start : stop : step]\n",
        "nums = [2, 4, 6, 8, 9, 1]\n",
        "print(nums[0:3])\n",
        "print(nums[2:4])\n",
        "print(nums[::])\n",
        "print(nums[2:])\n",
        "print(nums[:2])\n",
        "print(nums[::-1])\n",
        "print(nums[::2])"
      ],
      "metadata": {
        "colab": {
          "base_uri": "https://localhost:8080/"
        },
        "id": "IjWnBVELQcLI",
        "outputId": "bbf40d3a-4a32-4048-c749-3817ec9e0f20"
      },
      "execution_count": null,
      "outputs": [
        {
          "output_type": "stream",
          "name": "stdout",
          "text": [
            "[2, 4, 6]\n",
            "[6, 8]\n",
            "[2, 4, 6, 8, 9, 1]\n",
            "[6, 8, 9, 1]\n",
            "[2, 4]\n",
            "[1, 9, 8, 6, 4, 2]\n",
            "[2, 6, 9]\n"
          ]
        }
      ]
    },
    {
      "cell_type": "code",
      "source": [
        "nums = [2, 4, 6, 4, 8, 9, 4]\n",
        "len(nums)\n",
        "nums.append(99)\n",
        "nums\n",
        "nums.count(4)\n",
        "\n"
      ],
      "metadata": {
        "colab": {
          "base_uri": "https://localhost:8080/"
        },
        "id": "Srs6aSKPQzRF",
        "outputId": "5c6cc0e2-c7a7-4304-da88-cbadce291491"
      },
      "execution_count": null,
      "outputs": [
        {
          "output_type": "execute_result",
          "data": {
            "text/plain": [
              "3"
            ]
          },
          "metadata": {},
          "execution_count": 17
        }
      ]
    },
    {
      "cell_type": "code",
      "source": [
        "nums = [2, 4, 6, 4, 8]\n",
        "nums.insert(1, 7)\n",
        "nums\n",
        "\n",
        "nums.pop()\n",
        "nums\n",
        "\n",
        "nums.pop(2)\n",
        "nums"
      ],
      "metadata": {
        "colab": {
          "base_uri": "https://localhost:8080/"
        },
        "id": "K6y4KJElRoY2",
        "outputId": "faaba10e-a2f7-46fa-a1b3-dff12de7a5ab"
      },
      "execution_count": null,
      "outputs": [
        {
          "output_type": "execute_result",
          "data": {
            "text/plain": [
              "[2, 7, 6, 4]"
            ]
          },
          "metadata": {},
          "execution_count": 18
        }
      ]
    },
    {
      "cell_type": "code",
      "source": [
        "nums = [2, 4, 6, 4, 8]\n",
        "nums.reverse()\n",
        "print(nums)\n",
        "nums\n",
        "\n",
        "nums.sort()\n",
        "print(nums)\n",
        "nums\n",
        "\n",
        "nums.sort(reverse=True)\n",
        "nums"
      ],
      "metadata": {
        "colab": {
          "base_uri": "https://localhost:8080/"
        },
        "id": "GU0_W9xzR_6D",
        "outputId": "416cdac0-5d74-41d3-c9f0-d68730a4aeec"
      },
      "execution_count": null,
      "outputs": [
        {
          "output_type": "stream",
          "name": "stdout",
          "text": [
            "[8, 4, 6, 4, 2]\n",
            "[2, 4, 4, 6, 8]\n"
          ]
        },
        {
          "output_type": "execute_result",
          "data": {
            "text/plain": [
              "[8, 6, 4, 4, 2]"
            ]
          },
          "metadata": {},
          "execution_count": 20
        }
      ]
    },
    {
      "cell_type": "code",
      "source": [
        "weekdays = (\"sun\", \"mon\", \"tue\", \"wed\", \"thu\", \"fri\", \"sat\")\n",
        "print(len(weekdays))\n",
        "\n",
        "print(weekdays.count(\"mon\"))\n",
        "\n",
        "print(weekdays[0])\n",
        "\n",
        "print(weekdays[1:5])"
      ],
      "metadata": {
        "colab": {
          "base_uri": "https://localhost:8080/"
        },
        "id": "LRwI3vHnSQZ9",
        "outputId": "56fb06b0-7f8c-4960-8806-dd79bc7c67f5"
      },
      "execution_count": null,
      "outputs": [
        {
          "output_type": "stream",
          "name": "stdout",
          "text": [
            "7\n",
            "1\n",
            "sun\n",
            "('mon', 'tue', 'wed', 'thu')\n"
          ]
        }
      ]
    },
    {
      "cell_type": "code",
      "source": [
        "balls = {\"red\":1, \"blu\":6, \"yellow\":5, \"black\":3}\n",
        "balls[\"black\"]"
      ],
      "metadata": {
        "colab": {
          "base_uri": "https://localhost:8080/"
        },
        "id": "ScIgqbMHUSx5",
        "outputId": "6a83fe6e-d16f-4bed-fc62-bada657a5449"
      },
      "execution_count": null,
      "outputs": [
        {
          "output_type": "execute_result",
          "data": {
            "text/plain": [
              "3"
            ]
          },
          "metadata": {},
          "execution_count": 24
        }
      ]
    },
    {
      "cell_type": "code",
      "source": [
        "balls[\"green\"] = 5\n",
        "balls"
      ],
      "metadata": {
        "colab": {
          "base_uri": "https://localhost:8080/"
        },
        "id": "PqVqyYStUyWD",
        "outputId": "bdeebbdd-5075-4c3a-8a8d-c890f507a2a1"
      },
      "execution_count": null,
      "outputs": [
        {
          "output_type": "execute_result",
          "data": {
            "text/plain": [
              "{'red': 1, 'blu': 6, 'yellow': 5, 'black': 3, 'green': 5}"
            ]
          },
          "metadata": {},
          "execution_count": 25
        }
      ]
    },
    {
      "cell_type": "code",
      "source": [
        "print(balls.keys())\n",
        "print(balls.values())"
      ],
      "metadata": {
        "colab": {
          "base_uri": "https://localhost:8080/"
        },
        "id": "gue1XsgwU5ne",
        "outputId": "d07b6534-d2d6-4fc3-9b04-072220fae493"
      },
      "execution_count": null,
      "outputs": [
        {
          "output_type": "stream",
          "name": "stdout",
          "text": [
            "dict_keys(['red', 'blu', 'yellow', 'black', 'green'])\n",
            "dict_values([1, 6, 5, 3, 5])\n"
          ]
        }
      ]
    },
    {
      "cell_type": "code",
      "source": [
        "for ball in balls.keys():\n",
        "  print(ball)\n",
        "\n",
        "print(\"***********\")\n",
        "for key, val in balls.items():\n",
        "  print(balls[key])"
      ],
      "metadata": {
        "colab": {
          "base_uri": "https://localhost:8080/"
        },
        "id": "y7Gkzi-MVEBT",
        "outputId": "7bb05d7a-b8da-418a-9d88-70c8649f795d"
      },
      "execution_count": null,
      "outputs": [
        {
          "output_type": "stream",
          "name": "stdout",
          "text": [
            "red\n",
            "blu\n",
            "yellow\n",
            "black\n",
            "green\n",
            "***********\n",
            "1\n",
            "6\n",
            "5\n",
            "3\n",
            "5\n"
          ]
        }
      ]
    },
    {
      "cell_type": "code",
      "source": [
        "#SET\n",
        "nums = {1, 9, 8, 3, 6, 9}\n",
        "nums"
      ],
      "metadata": {
        "colab": {
          "base_uri": "https://localhost:8080/"
        },
        "id": "83ncU2C_VkPU",
        "outputId": "7ae7b2c5-a3f5-4d9a-e1de-85e747cc0482"
      },
      "execution_count": null,
      "outputs": [
        {
          "output_type": "execute_result",
          "data": {
            "text/plain": [
              "{1, 3, 6, 8, 9}"
            ]
          },
          "metadata": {},
          "execution_count": 28
        }
      ]
    },
    {
      "cell_type": "code",
      "source": [
        "nums.add(7)\n",
        "nums"
      ],
      "metadata": {
        "colab": {
          "base_uri": "https://localhost:8080/"
        },
        "id": "9i7218sHWbyd",
        "outputId": "fae8d8e1-10b9-4756-ab59-84dfadc4a569"
      },
      "execution_count": null,
      "outputs": [
        {
          "output_type": "execute_result",
          "data": {
            "text/plain": [
              "{1, 3, 6, 7, 8, 9}"
            ]
          },
          "metadata": {},
          "execution_count": 29
        }
      ]
    },
    {
      "cell_type": "code",
      "source": [
        "nums.remove(7)\n",
        "nums\n"
      ],
      "metadata": {
        "colab": {
          "base_uri": "https://localhost:8080/"
        },
        "id": "J3ZMTFSdWhVk",
        "outputId": "1872e2d2-c9e5-40ec-86c6-c697624f3e91"
      },
      "execution_count": null,
      "outputs": [
        {
          "output_type": "execute_result",
          "data": {
            "text/plain": [
              "{1, 3, 6, 8, 9}"
            ]
          },
          "metadata": {},
          "execution_count": 30
        }
      ]
    },
    {
      "cell_type": "code",
      "source": [
        "set_A = {1, 3, 5, 7}\n",
        "set_B = {2, 3, 4, 7}\n",
        "\n",
        "print(set_A.union(set_B))"
      ],
      "metadata": {
        "colab": {
          "base_uri": "https://localhost:8080/"
        },
        "id": "jdiejHaiW2h-",
        "outputId": "dc343a65-e301-487e-8133-f8330fe016cf"
      },
      "execution_count": null,
      "outputs": [
        {
          "output_type": "stream",
          "name": "stdout",
          "text": [
            "{1, 2, 3, 4, 5, 7}\n"
          ]
        }
      ]
    },
    {
      "cell_type": "code",
      "source": [
        "print(set_A.intersection(set_B))\n",
        "print(set_A.difference(set_B))\n"
      ],
      "metadata": {
        "colab": {
          "base_uri": "https://localhost:8080/"
        },
        "id": "okZw8uEhXBtf",
        "outputId": "3b78e95b-e430-49af-9d58-bed692e5e4f3"
      },
      "execution_count": null,
      "outputs": [
        {
          "output_type": "stream",
          "name": "stdout",
          "text": [
            "{3, 7}\n",
            "{1, 5}\n"
          ]
        }
      ]
    },
    {
      "cell_type": "code",
      "source": [
        "# String\n",
        "msg = \"hello world\"\n",
        "print(msg[0])\n",
        "\n",
        "print(len(msg))\n",
        "\n",
        "print(msg[1:4])\n",
        "\n",
        "print(\"hell\" in msg)"
      ],
      "metadata": {
        "colab": {
          "base_uri": "https://localhost:8080/"
        },
        "id": "fDPflX3OghQo",
        "outputId": "9437d677-9a9a-4949-b2e0-b52977169c65"
      },
      "execution_count": null,
      "outputs": [
        {
          "output_type": "stream",
          "name": "stdout",
          "text": [
            "h\n",
            "11\n",
            "ell\n",
            "True\n"
          ]
        }
      ]
    },
    {
      "cell_type": "code",
      "source": [
        "msg = \" Hello World \"\n",
        "print(msg.upper())\n",
        "\n",
        "print(msg.lower())\n",
        "\n",
        "print(msg.lstrip())\n",
        "\n",
        "print(msg.rstrip())\n",
        "\n",
        "print(msg.strip())\n",
        "\n"
      ],
      "metadata": {
        "colab": {
          "base_uri": "https://localhost:8080/"
        },
        "id": "iRI1PvMcg1Fr",
        "outputId": "bd03ce18-87b4-4ae8-8d96-7ec70d015615"
      },
      "execution_count": null,
      "outputs": [
        {
          "output_type": "stream",
          "name": "stdout",
          "text": [
            " HELLO WORLD \n",
            " hello world \n",
            "Hello World \n",
            " Hello World\n",
            "Hello World\n"
          ]
        }
      ]
    },
    {
      "cell_type": "code",
      "source": [
        "msg = \"This is a #hashtag\"\n",
        "print(msg.split())\n",
        "print(msg.split(\"#\"))"
      ],
      "metadata": {
        "colab": {
          "base_uri": "https://localhost:8080/"
        },
        "id": "ABoxe_U4hPVz",
        "outputId": "0025a2f4-3f73-4f34-c4e6-0425f353e8e3"
      },
      "execution_count": null,
      "outputs": [
        {
          "output_type": "stream",
          "name": "stdout",
          "text": [
            "['This', 'is', 'a', '#hashtag']\n",
            "['This is a ', 'hashtag']\n"
          ]
        }
      ]
    },
    {
      "cell_type": "code",
      "source": [
        "words = [\"a\", \"fat\", \"cat\", \"sat\", \"on\", \"the\", \"mat\"]\n",
        "sentence = \" \".join(words)\n",
        "sentence"
      ],
      "metadata": {
        "colab": {
          "base_uri": "https://localhost:8080/",
          "height": 35
        },
        "id": "85VEPiqaiQRz",
        "outputId": "0b670290-a367-4520-9c74-7eecb153ae0e"
      },
      "execution_count": null,
      "outputs": [
        {
          "output_type": "execute_result",
          "data": {
            "text/plain": [
              "'a fat cat sat on the mat'"
            ],
            "application/vnd.google.colaboratory.intrinsic+json": {
              "type": "string"
            }
          },
          "metadata": {},
          "execution_count": 36
        }
      ]
    },
    {
      "cell_type": "code",
      "source": [
        "str1 = \"hello\"\n",
        "str2 = \"world\"\n",
        "str1+str2"
      ],
      "metadata": {
        "colab": {
          "base_uri": "https://localhost:8080/",
          "height": 35
        },
        "id": "ZD5SckAci2kY",
        "outputId": "fa2ae503-08ac-4f50-83a5-d41d1ecfca7c"
      },
      "execution_count": null,
      "outputs": [
        {
          "output_type": "execute_result",
          "data": {
            "text/plain": [
              "'helloworld'"
            ],
            "application/vnd.google.colaboratory.intrinsic+json": {
              "type": "string"
            }
          },
          "metadata": {},
          "execution_count": 37
        }
      ]
    },
    {
      "cell_type": "code",
      "source": [
        "print(\"There were {0} kgs of apples and {1} oranges.\".format(3.5, 2))"
      ],
      "metadata": {
        "colab": {
          "base_uri": "https://localhost:8080/"
        },
        "id": "Vomfp4vWjoSM",
        "outputId": "f8e56fa9-180f-4e76-8c27-6abfad991f62"
      },
      "execution_count": null,
      "outputs": [
        {
          "output_type": "stream",
          "name": "stdout",
          "text": [
            "There were 3.5 kgs of apples and 2 oranges.\n"
          ]
        }
      ]
    },
    {
      "cell_type": "code",
      "source": [
        "def area_of_rectangle(length: int, width: int=2) -> int:\n",
        "  area = length * width\n",
        "  return area"
      ],
      "metadata": {
        "id": "YQV8FpBZj2lm"
      },
      "execution_count": null,
      "outputs": []
    },
    {
      "cell_type": "code",
      "source": [
        "area_of_rectangle(5, 8)"
      ],
      "metadata": {
        "colab": {
          "base_uri": "https://localhost:8080/"
        },
        "id": "VwitbafGkt7c",
        "outputId": "78ffa7e0-8177-42e9-c7b0-6b0016e47e33"
      },
      "execution_count": null,
      "outputs": [
        {
          "output_type": "execute_result",
          "data": {
            "text/plain": [
              "40"
            ]
          },
          "metadata": {},
          "execution_count": 40
        }
      ]
    },
    {
      "cell_type": "code",
      "source": [
        "area_of_rectangle(2)"
      ],
      "metadata": {
        "colab": {
          "base_uri": "https://localhost:8080/"
        },
        "id": "o9hlp7HCkxpX",
        "outputId": "1393097e-bb14-4f57-9766-3e26acd62886"
      },
      "execution_count": null,
      "outputs": [
        {
          "output_type": "execute_result",
          "data": {
            "text/plain": [
              "4"
            ]
          },
          "metadata": {},
          "execution_count": 41
        }
      ]
    },
    {
      "cell_type": "code",
      "source": [
        "#функция без фиксированного количества аргумента\n",
        "def area_of_rectangle(*args)->int:\n",
        "  area = args[0] * args[1]\n",
        "  return area\n"
      ],
      "metadata": {
        "id": "-klJZiJGlQvB"
      },
      "execution_count": null,
      "outputs": []
    },
    {
      "cell_type": "code",
      "source": [
        "area_of_rectangle(5, 8)"
      ],
      "metadata": {
        "colab": {
          "base_uri": "https://localhost:8080/"
        },
        "id": "Prhlwqu8mBL7",
        "outputId": "d6877bc5-5e77-4e8c-86fb-947f3dcf724b"
      },
      "execution_count": null,
      "outputs": [
        {
          "output_type": "execute_result",
          "data": {
            "text/plain": [
              "40"
            ]
          },
          "metadata": {},
          "execution_count": 43
        }
      ]
    },
    {
      "cell_type": "markdown",
      "source": [],
      "metadata": {
        "id": "F0wTjlQpll06"
      }
    },
    {
      "cell_type": "code",
      "source": [
        "#функция с аргументами вида ключ=значения\n",
        "def area_of_rectangle(**kwargs)->int:\n",
        "  area = kwargs[\"length\"] * kwargs[\"width\"]\n",
        "  return area\n"
      ],
      "metadata": {
        "id": "0r4F3c8Rle_W"
      },
      "execution_count": null,
      "outputs": []
    },
    {
      "cell_type": "code",
      "source": [
        "area_of_rectangle(length=5, width=8)"
      ],
      "metadata": {
        "colab": {
          "base_uri": "https://localhost:8080/"
        },
        "id": "kxtMzCn2mS9w",
        "outputId": "052384b7-c07b-4fce-f893-294c8dc508bc"
      },
      "execution_count": null,
      "outputs": [
        {
          "output_type": "execute_result",
          "data": {
            "text/plain": [
              "40"
            ]
          },
          "metadata": {},
          "execution_count": 45
        }
      ]
    },
    {
      "cell_type": "code",
      "source": [
        "#OOP\n",
        "\n",
        "class Animal:\n",
        "  def __init__(self, num_of_legs, color):\n",
        "    self.num_of_legs = num_of_legs\n",
        "    self.color = color\n",
        "\n",
        "  def make_sound(self, sound):\n",
        "    print(\"This is {0} animal and it {1}.\".format(self.color, sound))"
      ],
      "metadata": {
        "id": "w0MYz5fpmXp6"
      },
      "execution_count": null,
      "outputs": []
    },
    {
      "cell_type": "code",
      "source": [
        "cat = Animal(4, \"grey\")\n",
        "cat.make_sound(\"mrrr\")"
      ],
      "metadata": {
        "colab": {
          "base_uri": "https://localhost:8080/"
        },
        "id": "mrji3D-LpRlX",
        "outputId": "8a354f84-c04a-4fd9-af9a-f5d415585d2d"
      },
      "execution_count": null,
      "outputs": [
        {
          "output_type": "stream",
          "name": "stdout",
          "text": [
            "This is grey animal and it mrrr.\n"
          ]
        }
      ]
    },
    {
      "cell_type": "code",
      "source": [
        "class Bird(Animal):\n",
        "  def __init__(self, nums_of_legs, color, can_fly=True):\n",
        "    self.can_fly = can_fly\n",
        "\n",
        "    Animal.__init__(self, num_of_legs=nums_of_legs, color=color)\n",
        "\n",
        "  def make_sound(self, sound):\n",
        "    if self.can_fly == True:\n",
        "      print(\"Tis is fly {0} bird and it {1}.\".format(self.color, sound))\n",
        "    else:\n",
        "      print(\"This is unfly {0} bird and it {1}.\".format(self.color, soiund))"
      ],
      "metadata": {
        "id": "CrVKnHilpYBC"
      },
      "execution_count": null,
      "outputs": []
    },
    {
      "cell_type": "code",
      "source": [
        "duck = Bird(2, \"White, True\")\n",
        "duck.make_sound(\"Krayy\")"
      ],
      "metadata": {
        "colab": {
          "base_uri": "https://localhost:8080/"
        },
        "id": "aXjxQgHCxb5b",
        "outputId": "26f61da7-016d-4efa-96da-7a6b235f8912"
      },
      "execution_count": null,
      "outputs": [
        {
          "output_type": "stream",
          "name": "stdout",
          "text": [
            "Tis is fly White, True bird and it Krayy.\n"
          ]
        }
      ]
    },
    {
      "cell_type": "code",
      "source": [
        "import numpy as np"
      ],
      "metadata": {
        "id": "ZGdf5G0Uxjw7"
      },
      "execution_count": null,
      "outputs": []
    },
    {
      "cell_type": "code",
      "source": [
        "nums = np.array([2.33, 3.44, 4.55])\n",
        "type(nums)"
      ],
      "metadata": {
        "colab": {
          "base_uri": "https://localhost:8080/"
        },
        "id": "4TxUieWBzTdf",
        "outputId": "539a1253-3477-497c-aab3-980ae045aa57"
      },
      "execution_count": null,
      "outputs": [
        {
          "output_type": "execute_result",
          "data": {
            "text/plain": [
              "numpy.ndarray"
            ]
          },
          "metadata": {},
          "execution_count": 53
        }
      ]
    },
    {
      "cell_type": "code",
      "source": [
        "print(nums.shape)\n",
        "print(nums.ndim)\n",
        "print(nums.size)"
      ],
      "metadata": {
        "colab": {
          "base_uri": "https://localhost:8080/"
        },
        "id": "Sv0yh4850Lnk",
        "outputId": "f259afd6-6c8c-40a9-f857-1924e10c9f2f"
      },
      "execution_count": null,
      "outputs": [
        {
          "output_type": "stream",
          "name": "stdout",
          "text": [
            "(3,)\n",
            "1\n",
            "3\n"
          ]
        }
      ]
    },
    {
      "cell_type": "code",
      "source": [
        "print(np.shape(nums))\n",
        "print(np.ndim(nums))\n",
        "print(np.size(nums))"
      ],
      "metadata": {
        "colab": {
          "base_uri": "https://localhost:8080/"
        },
        "id": "oixBktK70THH",
        "outputId": "c4fc380d-8320-434d-c51a-233adc50244d"
      },
      "execution_count": null,
      "outputs": [
        {
          "output_type": "stream",
          "name": "stdout",
          "text": [
            "(3,)\n",
            "1\n",
            "3\n"
          ]
        }
      ]
    },
    {
      "cell_type": "code",
      "source": [
        "scalar = np.array(2.33)\n",
        "print(scalar.shape)\n",
        "print(scalar.ndim)"
      ],
      "metadata": {
        "colab": {
          "base_uri": "https://localhost:8080/"
        },
        "id": "Ei-IiUUT0icp",
        "outputId": "9602ab39-0e81-495f-b8ee-efa186f4e554"
      },
      "execution_count": null,
      "outputs": [
        {
          "output_type": "stream",
          "name": "stdout",
          "text": [
            "()\n",
            "0\n"
          ]
        }
      ]
    },
    {
      "cell_type": "code",
      "source": [
        "#ndarray в виде спискс списков - матрица\n",
        "mat = np.array([[2.33, 3.44, 4.55], [5.66, 6.77, 7.88]])\n",
        "print(mat.shape)\n",
        "print(mat.ndim)"
      ],
      "metadata": {
        "colab": {
          "base_uri": "https://localhost:8080/"
        },
        "id": "hCAZ-Iag0-s_",
        "outputId": "a52029f7-7b0a-4eee-de9f-38378eed3ab7"
      },
      "execution_count": null,
      "outputs": [
        {
          "output_type": "stream",
          "name": "stdout",
          "text": [
            "(2, 3)\n",
            "2\n"
          ]
        }
      ]
    },
    {
      "cell_type": "code",
      "source": [
        "mat = np.array([[2, 3, 4], [5, 6, 7], [1, 0, 9], [8, 2, 3]])\n",
        "print(mat.shape)\n",
        "print(\"*************\")\n",
        "\n",
        "mat = mat.reshape(12)\n",
        "print(mat)\n",
        "print(mat.shape)\n",
        "print(\"*************\")\n",
        "\n",
        "mat = mat.reshape(2, 6)\n",
        "print(mat)\n",
        "print(mat.shape)"
      ],
      "metadata": {
        "colab": {
          "base_uri": "https://localhost:8080/"
        },
        "id": "xUecjBqh1mSQ",
        "outputId": "f4e6c56f-4f70-4291-8f8f-e92b89c0205e"
      },
      "execution_count": null,
      "outputs": [
        {
          "output_type": "stream",
          "name": "stdout",
          "text": [
            "(4, 3)\n",
            "*************\n",
            "[2 3 4 5 6 7 1 0 9 8 2 3]\n",
            "(12,)\n",
            "*************\n",
            "[[2 3 4 5 6 7]\n",
            " [1 0 9 8 2 3]]\n",
            "(2, 6)\n"
          ]
        }
      ]
    },
    {
      "cell_type": "code",
      "source": [
        "# Если указать -1 то в такос случае размерность будет автоматически\n",
        "# вычислена исходя из длинны массива и остальных размерностей\n",
        "mat = np.array([[2, 3, 4], [5, 6, 7], [1, 0, 9], [8, 2, 3]])\n",
        "print(mat.shape)\n",
        "\n",
        "mat = mat.reshape(-1, 6)\n",
        "\n",
        "print(mat)\n",
        "print(mat.shape)"
      ],
      "metadata": {
        "colab": {
          "base_uri": "https://localhost:8080/"
        },
        "id": "RQJ574fs2aaZ",
        "outputId": "62a0bb10-42b2-43c0-b39a-6abc1038113d"
      },
      "execution_count": null,
      "outputs": [
        {
          "output_type": "stream",
          "name": "stdout",
          "text": [
            "(4, 3)\n",
            "[[2 3 4 5 6 7]\n",
            " [1 0 9 8 2 3]]\n",
            "(2, 6)\n"
          ]
        }
      ]
    },
    {
      "cell_type": "code",
      "source": [
        "#Траспонирование массивов\n",
        "vector = np.array([[3.21, 5.43, 8.55]])\n",
        "print(vector.shape)\n",
        "vector = vector.T\n",
        "print(vector.shape)"
      ],
      "metadata": {
        "colab": {
          "base_uri": "https://localhost:8080/"
        },
        "id": "tr9gup3I3ktM",
        "outputId": "e3e3bdff-f544-4b3a-d8d6-da2a0ff000c5"
      },
      "execution_count": null,
      "outputs": [
        {
          "output_type": "stream",
          "name": "stdout",
          "text": [
            "(1, 3)\n",
            "(3, 1)\n"
          ]
        }
      ]
    },
    {
      "cell_type": "code",
      "source": [
        "mat = np.array([[2, 3, 4], [5, 6, 7], [1, 0, 9], [8, 2, 3]])\n",
        "print(mat.shape)\n",
        "print(mat)\n"
      ],
      "metadata": {
        "colab": {
          "base_uri": "https://localhost:8080/"
        },
        "id": "iSi_fyQYJEoc",
        "outputId": "8b877749-06bb-4dd2-a60c-3ee9aeb3ebb5"
      },
      "execution_count": null,
      "outputs": [
        {
          "output_type": "stream",
          "name": "stdout",
          "text": [
            "(4, 3)\n",
            "[[2 3 4]\n",
            " [5 6 7]\n",
            " [1 0 9]\n",
            " [8 2 3]]\n"
          ]
        }
      ]
    },
    {
      "cell_type": "code",
      "source": [
        "mat = mat.T\n",
        "print(mat.shape)\n",
        "print(mat)"
      ],
      "metadata": {
        "colab": {
          "base_uri": "https://localhost:8080/"
        },
        "id": "5r_U9RU3JWUS",
        "outputId": "02a1d418-52f6-43f3-c545-039aa9d5c327"
      },
      "execution_count": null,
      "outputs": [
        {
          "output_type": "stream",
          "name": "stdout",
          "text": [
            "(3, 4)\n",
            "[[2 5 1 8]\n",
            " [3 6 0 2]\n",
            " [4 7 9 3]]\n"
          ]
        }
      ]
    },
    {
      "cell_type": "code",
      "source": [
        "import numpy as np\n",
        "numss = np.arange(15000)\n",
        "sum = 0\n",
        "for num in numss:\n",
        "  sum = sum + num\n",
        "print(sum)"
      ],
      "metadata": {
        "colab": {
          "base_uri": "https://localhost:8080/"
        },
        "id": "HLb2P06YJfyN",
        "outputId": "f875ab4f-5918-499f-ad8e-fa768685e24a"
      },
      "execution_count": null,
      "outputs": [
        {
          "output_type": "stream",
          "name": "stdout",
          "text": [
            "112492500\n"
          ]
        }
      ]
    },
    {
      "cell_type": "code",
      "source": [
        "print(np.sum(numss))"
      ],
      "metadata": {
        "colab": {
          "base_uri": "https://localhost:8080/"
        },
        "id": "zlvRgyOnKQ8G",
        "outputId": "000e9c8e-77c1-44d2-fa91-7083d32cfd35"
      },
      "execution_count": null,
      "outputs": [
        {
          "output_type": "stream",
          "name": "stdout",
          "text": [
            "112492500\n"
          ]
        }
      ]
    },
    {
      "cell_type": "code",
      "source": [
        "# умножение матриц функция dot()\n",
        "mat_A = np.array([[2, 3, 4], [5, 6, 7]])\n",
        "\n",
        "mat_B = np.array([[1, 0], [8, 2], [7, 3]])\n",
        "\n",
        "mat_A.dot(mat_B)"
      ],
      "metadata": {
        "colab": {
          "base_uri": "https://localhost:8080/"
        },
        "id": "T7rJStcPKVSe",
        "outputId": "8c7582cc-1518-43a1-d9ba-401858dfe7b3"
      },
      "execution_count": null,
      "outputs": [
        {
          "output_type": "execute_result",
          "data": {
            "text/plain": [
              "array([[ 54,  18],\n",
              "       [102,  33]])"
            ]
          },
          "metadata": {},
          "execution_count": 71
        }
      ]
    },
    {
      "cell_type": "code",
      "source": [
        "mat_A@mat_B"
      ],
      "metadata": {
        "colab": {
          "base_uri": "https://localhost:8080/"
        },
        "id": "YWzL2ONqMVIa",
        "outputId": "e7c686f4-3583-4149-b5fd-6821ac04564e"
      },
      "execution_count": null,
      "outputs": [
        {
          "output_type": "execute_result",
          "data": {
            "text/plain": [
              "array([[ 54,  18],\n",
              "       [102,  33]])"
            ]
          },
          "metadata": {},
          "execution_count": 72
        }
      ]
    },
    {
      "cell_type": "code",
      "source": [
        "# Generation values number\n",
        "# arange(start, stop, step)\n",
        "\n",
        "print(np.arange(1, 20, 2))\n",
        "\n",
        "print(np.linspace(1, 10, 3))"
      ],
      "metadata": {
        "colab": {
          "base_uri": "https://localhost:8080/"
        },
        "id": "FCUafOZTMZ6y",
        "outputId": "12727958-25e0-4780-dd97-402d1fea8fe4"
      },
      "execution_count": null,
      "outputs": [
        {
          "output_type": "stream",
          "name": "stdout",
          "text": [
            "[ 1  3  5  7  9 11 13 15 17 19]\n",
            "[ 1.   5.5 10. ]\n"
          ]
        }
      ]
    },
    {
      "cell_type": "code",
      "source": [
        "np.random.rand(2, 3)"
      ],
      "metadata": {
        "colab": {
          "base_uri": "https://localhost:8080/"
        },
        "id": "sbqbJH1hM-Fh",
        "outputId": "3007e17f-156e-4a70-94d0-8452183cf0c8"
      },
      "execution_count": null,
      "outputs": [
        {
          "output_type": "execute_result",
          "data": {
            "text/plain": [
              "array([[0.26635187, 0.15688241, 0.25199701],\n",
              "       [0.65812844, 0.24062843, 0.57949127]])"
            ]
          },
          "metadata": {},
          "execution_count": 74
        }
      ]
    },
    {
      "cell_type": "code",
      "source": [
        "np.random.randn(2, 3)"
      ],
      "metadata": {
        "colab": {
          "base_uri": "https://localhost:8080/"
        },
        "id": "NXNaT7lhNOjF",
        "outputId": "1aeccf01-f676-46fd-9783-559117a9a2a8"
      },
      "execution_count": null,
      "outputs": [
        {
          "output_type": "execute_result",
          "data": {
            "text/plain": [
              "array([[-0.54100846, -0.11199493, -0.26029734],\n",
              "       [ 1.19553497,  0.04518581,  0.15345032]])"
            ]
          },
          "metadata": {},
          "execution_count": 77
        }
      ]
    },
    {
      "cell_type": "code",
      "source": [
        "np.zeros((2, 3))"
      ],
      "metadata": {
        "colab": {
          "base_uri": "https://localhost:8080/"
        },
        "id": "j0cU4o3ONd5q",
        "outputId": "f1457f66-f436-43d9-e0a3-8a0fe38dee75"
      },
      "execution_count": null,
      "outputs": [
        {
          "output_type": "execute_result",
          "data": {
            "text/plain": [
              "array([[0., 0., 0.],\n",
              "       [0., 0., 0.]])"
            ]
          },
          "metadata": {},
          "execution_count": 78
        }
      ]
    },
    {
      "cell_type": "code",
      "source": [
        "np.ones((2, 3))"
      ],
      "metadata": {
        "colab": {
          "base_uri": "https://localhost:8080/"
        },
        "id": "uDOHhmOCNh0o",
        "outputId": "4dbd2bc7-d87b-4d9f-e177-8d90667a8559"
      },
      "execution_count": null,
      "outputs": [
        {
          "output_type": "execute_result",
          "data": {
            "text/plain": [
              "array([[1., 1., 1.],\n",
              "       [1., 1., 1.]])"
            ]
          },
          "metadata": {},
          "execution_count": 79
        }
      ]
    },
    {
      "cell_type": "code",
      "source": [
        "#Matplotlib\n",
        "import matplotlib.pyplot as plt\n",
        "import numpy as np\n",
        "\n",
        "x_coords = np.array([0, 4, 6, 8])\n",
        "y_coords = np.array([0, 86, 77, 100])\n",
        "\n",
        "plt.plot(x_coords, y_coords)\n"
      ],
      "metadata": {
        "colab": {
          "base_uri": "https://localhost:8080/",
          "height": 448
        },
        "id": "f7_GUr4WNmVR",
        "outputId": "1a0d6ce4-8d11-4ace-a388-83bc18e0c2a1"
      },
      "execution_count": null,
      "outputs": [
        {
          "output_type": "execute_result",
          "data": {
            "text/plain": [
              "[<matplotlib.lines.Line2D at 0x78d355e5c9e0>]"
            ]
          },
          "metadata": {},
          "execution_count": 80
        },
        {
          "output_type": "display_data",
          "data": {
            "text/plain": [
              "<Figure size 640x480 with 1 Axes>"
            ],
            "image/png": "[encoded data removed]"
          },
          "metadata": {}
        }
      ]
    },
    {
      "cell_type": "code",
      "source": [
        "x_coords = np.array([0, 4, 6, 8])\n",
        "y_coords = np.array([0, 86, 77, 100])\n",
        "\n",
        "plt.plot(x_coords, y_coords, \"g+--\", linewidth=5, markersize=20)"
      ],
      "metadata": {
        "colab": {
          "base_uri": "https://localhost:8080/",
          "height": 448
        },
        "id": "0GZyyO5KOEd0",
        "outputId": "061fc085-2b7d-4c11-f1b6-eada3a7909be"
      },
      "execution_count": null,
      "outputs": [
        {
          "output_type": "execute_result",
          "data": {
            "text/plain": [
              "[<matplotlib.lines.Line2D at 0x78d355314890>]"
            ]
          },
          "metadata": {},
          "execution_count": 81
        },
        {
          "output_type": "display_data",
          "data": {
            "text/plain": [
              "<Figure size 640x480 with 1 Axes>"
            ],
            "image/png": "[encoded data removed]"
          },
          "metadata": {}
        }
      ]
    },
    {
      "cell_type": "code",
      "source": [
        "city = [\"chennai\", \"Dubai\", \"London\", \"Sydney\", \"Toronto\"]\n",
        "summer_tmp = [45, 36, 18, 22, 20]\n",
        "winter_tmp = [14, 18, 5, 13, -10]\n",
        "\n",
        "plt.grid()\n",
        "plt.title(\"Summer and Winter average temmp of cities\")\n",
        "plt.plot(city, summer_tmp)\n",
        "plt.plot(city, winter_tmp)\n",
        "\n",
        "plt.xlabel(\"Cities\")\n",
        "plt.ylabel(\"Temperatures\")\n",
        "\n",
        "#Text(0, 0.5, 'Temperatures')"
      ],
      "metadata": {
        "colab": {
          "base_uri": "https://localhost:8080/",
          "height": 490
        },
        "id": "ONF2BL-DOd9o",
        "outputId": "fa6e7541-a05f-4de0-814c-0cff41da7bcb"
      },
      "execution_count": null,
      "outputs": [
        {
          "output_type": "execute_result",
          "data": {
            "text/plain": [
              "Text(0, 0.5, 'Temperatures')"
            ]
          },
          "metadata": {},
          "execution_count": 83
        },
        {
          "output_type": "display_data",
          "data": {
            "text/plain": [
              "<Figure size 640x480 with 1 Axes>"
            ],
            "image/png": "[encoded data removed]"
          },
          "metadata": {}
        }
      ]
    },
    {
      "cell_type": "code",
      "source": [
        "#Подграфики\n",
        "x_coords = np.array([0, 4, 6, 8])\n",
        "y_coords_1 = np.array([0, 86, 77, 100])\n",
        "y_coords_2 = np.array([10, 46, 57, 40])\n",
        "\n",
        "plt.subplot(1, 2, 1)\n",
        "plt.plot(x_coords, y_coords_1)\n",
        "\n",
        "plt.subplot(1, 2, 2)\n",
        "plt.plot(x_coords, y_coords_2)"
      ],
      "metadata": {
        "colab": {
          "base_uri": "https://localhost:8080/",
          "height": 448
        },
        "id": "EkPnHUZ6PY5B",
        "outputId": "c0e6205d-9372-43db-8461-a42657468499"
      },
      "execution_count": null,
      "outputs": [
        {
          "output_type": "execute_result",
          "data": {
            "text/plain": [
              "[<matplotlib.lines.Line2D at 0x78d3556ff3b0>]"
            ]
          },
          "metadata": {},
          "execution_count": 84
        },
        {
          "output_type": "display_data",
          "data": {
            "text/plain": [
              "<Figure size 640x480 with 2 Axes>"
            ],
            "image/png": "[encoded data removed]"
          },
          "metadata": {}
        }
      ]
    }
  ]
}