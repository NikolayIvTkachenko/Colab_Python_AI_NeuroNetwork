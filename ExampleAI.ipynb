{
  "nbformat": 4,
  "nbformat_minor": 0,
  "metadata": {
    "colab": {
      "provenance": [],
      "authorship_tag": "ABX9TyO6Oub0T4hE52DaoXVUvS/k",
      "include_colab_link": true
    },
    "kernelspec": {
      "name": "python3",
      "display_name": "Python 3"
    },
    "language_info": {
      "name": "python"
    }
  },
  "cells": [
    {
      "cell_type": "markdown",
      "metadata": {
        "id": "view-in-github",
        "colab_type": "text"
      },
      "source": [
        "<a href=\"https://colab.research.google.com/github/NikolayIvTkachenko/Colab_Python_AI_NeuroNetwork/blob/main/ExampleAI.ipynb\" target=\"_parent\"><img src=\"https://colab.research.google.com/assets/colab-badge.svg\" alt=\"Open In Colab\"/></a>"
      ]
    },
    {
      "cell_type": "code",
      "execution_count": 1,
      "metadata": {
        "id": "JMnPX3jACnMe"
      },
      "outputs": [],
      "source": [
        "import matplotlib.pyplot as plt\n",
        "import numpy as np"
      ]
    },
    {
      "cell_type": "code",
      "source": [
        "def sigmoid(f):\n",
        "  return 1/(1 + np.exp(-f))"
      ],
      "metadata": {
        "id": "CmRf0Im4Eswj"
      },
      "execution_count": 2,
      "outputs": []
    },
    {
      "cell_type": "code",
      "source": [
        "f = np.linspace(-10, 10, 50)\n",
        "print(f)"
      ],
      "metadata": {
        "colab": {
          "base_uri": "https://localhost:8080/"
        },
        "id": "mGSe4WkvE3AZ",
        "outputId": "6dce37f5-f254-472f-c8c2-59e5d174340a"
      },
      "execution_count": 3,
      "outputs": [
        {
          "output_type": "stream",
          "name": "stdout",
          "text": [
            "[-10.          -9.59183673  -9.18367347  -8.7755102   -8.36734694\n",
            "  -7.95918367  -7.55102041  -7.14285714  -6.73469388  -6.32653061\n",
            "  -5.91836735  -5.51020408  -5.10204082  -4.69387755  -4.28571429\n",
            "  -3.87755102  -3.46938776  -3.06122449  -2.65306122  -2.24489796\n",
            "  -1.83673469  -1.42857143  -1.02040816  -0.6122449   -0.20408163\n",
            "   0.20408163   0.6122449    1.02040816   1.42857143   1.83673469\n",
            "   2.24489796   2.65306122   3.06122449   3.46938776   3.87755102\n",
            "   4.28571429   4.69387755   5.10204082   5.51020408   5.91836735\n",
            "   6.32653061   6.73469388   7.14285714   7.55102041   7.95918367\n",
            "   8.36734694   8.7755102    9.18367347   9.59183673  10.        ]\n"
          ]
        }
      ]
    },
    {
      "cell_type": "code",
      "source": [],
      "metadata": {
        "id": "FQDIqfibE-ym"
      },
      "execution_count": null,
      "outputs": []
    }
  ]
}