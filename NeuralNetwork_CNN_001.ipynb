{
  "nbformat": 4,
  "nbformat_minor": 0,
  "metadata": {
    "colab": {
      "provenance": [],
      "authorship_tag": "ABX9TyOBGQEHgwU7eyHT5pos1cGl",
      "include_colab_link": true
    },
    "kernelspec": {
      "name": "python3",
      "display_name": "Python 3"
    },
    "language_info": {
      "name": "python"
    }
  },
  "cells": [
    {
      "cell_type": "markdown",
      "metadata": {
        "id": "view-in-github",
        "colab_type": "text"
      },
      "source": [
        "<a href=\"https://colab.research.google.com/github/NikolayIvTkachenko/Colab_Python_AI_NeuroNetwork/blob/main/NeuralNetwork_CNN_001.ipynb\" target=\"_parent\"><img src=\"https://colab.research.google.com/assets/colab-badge.svg\" alt=\"Open In Colab\"/></a>"
      ]
    },
    {
      "cell_type": "code",
      "execution_count": 1,
      "metadata": {
        "id": "2gpJv40ptsrs"
      },
      "outputs": [],
      "source": [
        "import tensorflow as tf\n",
        "import numpy as np\n",
        "import matplotlib.pyplot as plt"
      ]
    },
    {
      "cell_type": "code",
      "source": [
        "inputs = tf.keras.Input((28, 28, 3))\n",
        "\n",
        "#регуляризация - контроль сложности путем введения штрафов L1 - Lasso, L2-Ridge-регрессия\n",
        "conv_1 = tf.keras.layers.Conv2D(filters=16, kernel_size=(3, 3), padding='same', kernel_regularizer=\"L1L2\")(inputs)\n",
        "#решение без регуляризации\n",
        "#conv_1 = tf.keras.layers.Conv2D(filters=32, kernel_size=(3, 3), padding='same', stride=(1, 1))(inputs)\n",
        "#same - добавиться рамка из нулей\n",
        "#stride - шаг смещения фильтра по входному изображению\n",
        "act_1 = tf.keras.layers.Activation(\"relu\")(conv_1)\n",
        "#за сверточным слоем следует слой активации ReLu (Rectified Linear Unit) добавляющий нелинейность\n",
        "#На этом слое к полученным со сверточного слоя данным поэлементно применяется функция активации ReLu\n",
        "pool_1 = tf.keras.layers.MaxPool2D(pool_size=(2, 2), strides=(1, 1), padding='valid',) (act_1)\n",
        "#Значение valid означет что добавления рамки не будет\n",
        "#Слой пуллинга подобно сверточному слою сканирует входному изображению слева и сверху вниз\n",
        "#но в отличие от сверточного слоя он не выполняет поэлементное произведение с суммирование\n",
        "#а вычисляется одним из двух способов\n",
        "#пулинг по максимальному значению max pooling\n",
        "#пулинг по среднему значению avarage pooling\n",
        "do_1 = tf.keras.layers.Dropout(0.6)(pool_1)\n",
        "#Дропаут - отключение случайное нейронов\n",
        "\n"
      ],
      "metadata": {
        "id": "clIHKppnuQFq"
      },
      "execution_count": 4,
      "outputs": []
    }
  ]
}