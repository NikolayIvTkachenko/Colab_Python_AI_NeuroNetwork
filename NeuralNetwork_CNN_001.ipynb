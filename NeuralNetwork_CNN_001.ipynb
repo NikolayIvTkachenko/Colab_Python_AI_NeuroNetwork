{
  "nbformat": 4,
  "nbformat_minor": 0,
  "metadata": {
    "colab": {
      "provenance": [],
      "authorship_tag": "ABX9TyOb6xzq5kQLwnsrjZCbEEwg",
      "include_colab_link": true
    },
    "kernelspec": {
      "name": "python3",
      "display_name": "Python 3"
    },
    "language_info": {
      "name": "python"
    }
  },
  "cells": [
    {
      "cell_type": "markdown",
      "metadata": {
        "id": "view-in-github",
        "colab_type": "text"
      },
      "source": [
        "<a href=\"https://colab.research.google.com/github/NikolayIvTkachenko/Colab_Python_AI_NeuroNetwork/blob/main/NeuralNetwork_CNN_001.ipynb\" target=\"_parent\"><img src=\"https://colab.research.google.com/assets/colab-badge.svg\" alt=\"Open In Colab\"/></a>"
      ]
    },
    {
      "cell_type": "code",
      "execution_count": 1,
      "metadata": {
        "id": "2gpJv40ptsrs"
      },
      "outputs": [],
      "source": [
        "import tensorflow as tf\n",
        "import numpy as np\n",
        "import matplotlib.pyplot as plt"
      ]
    },
    {
      "cell_type": "code",
      "source": [
        "inputs = tf.keras.Input((28, 28, 3))\n",
        "\n",
        "#регуляризация - контроль сложности путем введения штрафов L1 - Lasso, L2-Ridge-регрессия\n",
        "conv_1 = tf.keras.layers.Conv2D(filters=16, kernel_size=(3, 3), padding='same', kernel_regularizer=\"L1L2\")(inputs)\n",
        "#решение без регуляризации\n",
        "#conv_1 = tf.keras.layers.Conv2D(filters=32, kernel_size=(3, 3), padding='same', stride=(1, 1))(inputs)\n",
        "#same - добавиться рамка из нулей\n",
        "#stride - шаг смещения фильтра по входному изображению\n",
        "act_1 = tf.keras.layers.Activation(\"relu\")(conv_1)\n",
        "#за сверточным слоем следует слой активации ReLu (Rectified Linear Unit) добавляющий нелинейность\n",
        "#На этом слое к полученным со сверточного слоя данным поэлементно применяется функция активации ReLu\n",
        "pool_1 = tf.keras.layers.MaxPool2D(pool_size=(2, 2), strides=(1, 1), padding='valid',) (act_1)\n",
        "#Значение valid означет что добавления рамки не будет\n",
        "#Слой пуллинга подобно сверточному слою сканирует входному изображению слева и сверху вниз\n",
        "#но в отличие от сверточного слоя он не выполняет поэлементное произведение с суммирование\n",
        "#а вычисляется одним из двух способов\n",
        "#пулинг по максимальному значению max pooling\n",
        "#пулинг по среднему значению avarage pooling\n",
        "do_1 = tf.keras.layers.Dropout(0.6)(pool_1)\n",
        "#Дропаут - отключение случайное нейронов\n",
        "\n"
      ],
      "metadata": {
        "id": "clIHKppnuQFq"
      },
      "execution_count": 4,
      "outputs": []
    },
    {
      "cell_type": "code",
      "source": [
        "#Аугментация - это метод исскуственного увеличения количества данных\n",
        "# augmentation = tf.keras.Sequential()\n",
        "# augmentation.add(tf.keras.layers.RandomFlip())\n",
        "# aug_img = augmentation(x_train[1])\n",
        "# plt.subplot(1, 2, 1)\n",
        "# plt.imshow(x_train[1])\n",
        "# plt.subplot(1, 2, 2)\n",
        "# plt.imshow(aug_img)\n",
        "#\n",
        "#\n",
        "# RandomCrop\n",
        "# RandomFlip\n",
        "# RandomTranslation\n",
        "# RandomRotation\n",
        "# RandomZoom\n",
        "# CenterCrop\n",
        "# RandomHeight\n",
        "# RandomWidth\n",
        "# RandomContrast\n",
        "#\n",
        "#"
      ],
      "metadata": {
        "id": "raGPtn7n4sxe"
      },
      "execution_count": null,
      "outputs": []
    },
    {
      "cell_type": "code",
      "source": [
        "#аугментация во воремя обучения моделт\n",
        "# model = tf.keras.Sequential()\n",
        "# model.add(augmentation)\n",
        "# model.add(tf.keras.layers.Conv2D(filters=16, kernel_size=(3, 3). padding='same))\n",
        "# model.add(tf.keras.layers.Activation(\"relu\"))\n",
        "# model.add(tf.keras.layers.MaxPooling2D(pool_size=(2, 2), strides=(1, 1), padding='valid',))\n",
        "# model.add(tf.keras.layers.Conv2D(16, (3, 3), padding='same'))\n",
        "# model.add(tf.keras.layers.Activation(\"relu\"))\n",
        "# model.add(tf.keras.layers.MaxPooling2D(pool_size=(2, 2)))\n",
        "# model.add(tf.keras.layers.Flatten())\n",
        "# model.add(tf.keras.layers.Dense(512, activation='relu'))\n",
        "# model.add(tf.keras.layers.Dense(512, activation='relu'))\n",
        "# model.add(tf.keras.layers.Dense(10, activation='softmax'))\n",
        "#\n",
        "#\n",
        "#\n",
        "#"
      ],
      "metadata": {
        "id": "FLzcq-ey6H3Q"
      },
      "execution_count": null,
      "outputs": []
    },
    {
      "cell_type": "code",
      "source": [
        "# Аугментация до обучения модели\n",
        "# train_ds = tf.data.Dataset.from_tensor_slices((x_train, y_train))\n",
        "# test_ds = tf.data.Dataset.from_tensor_slices((x_test, y_test))\n",
        "# train_ds = train_ds.batch(32).map(lambda x, y:(augmentation(x), y), num_parallel_calls=tf.data.AUTOTUNE)\n",
        "# test_ds = test_ds.batch(32)\n",
        "# Параметр num_parallel_calls установлен tf.data.AUTOTUNE - это означент? что пакеты обрабатываются перелелльно и асинхронно\n",
        "#"
      ],
      "metadata": {
        "id": "O4WvXwFzBixI"
      },
      "execution_count": null,
      "outputs": []
    },
    {
      "cell_type": "code",
      "source": [
        "# Пакетная нормализация\n",
        "# Используется для борьбы с переобучением.\n",
        "# Пакетная нормализация устраняет проблему внутреннего ковариационного сдвига, преобразовывая мини-пакеты данных так, чтобы их среднее значения стремились к нулю\n",
        "# а стандартное отклонение приближалось к единице, что способствует ускорению обучения\n",
        "#\n",
        "# inputs = tf.keras.Input((28, 28, 1))\n",
        "# conv_1 = tf.keras.layers.Conv2D(filters=16, kernel_size=(3, 3), padding='same', kernel_regularizer='L1L2')(inputs)\n",
        "# bn_1 = tf.keras.layers.BatchNormalization()(conv_1)\n",
        "# act_1 = tf.keras.layers.Activation(\"relu\")(bn_1)\n",
        "# pool_1 = tf.keras.layers.MaxPooling2D(pool_size=(2, 2), strides=(1, 1), padding-'valid',)(act_1)\n",
        "# do_1 = tf.keras.layers.Dropout(0.6)(pool_1)\n",
        "#\n",
        "#\n",
        "#\n"
      ],
      "metadata": {
        "id": "ODergf3oCx9W"
      },
      "execution_count": null,
      "outputs": []
    },
    {
      "cell_type": "code",
      "source": [],
      "metadata": {
        "id": "bL8WEakNwYgt"
      },
      "execution_count": null,
      "outputs": []
    }
  ]
}